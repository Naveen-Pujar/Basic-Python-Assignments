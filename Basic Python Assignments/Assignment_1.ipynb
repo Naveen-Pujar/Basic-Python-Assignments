{
 "cells": [
  {
   "cell_type": "markdown",
   "metadata": {},
   "source": [
    "#                                                         Assignment 1"
   ]
  },
  {
   "cell_type": "markdown",
   "metadata": {},
   "source": [
    "### 1. In the below elements which of them are values or an expression? eg:- values can be integer or string and    expressions will be mathematical operators.\n",
    "\n",
    "### 'hello'    -87.8       -    /    + \t6   *\n",
    "\n",
    "\n",
    "\n",
    "### Solution: \n",
    "\n",
    "### Values:   'hello', -87.8, 6 \n",
    "\n",
    "### Expressions:   *, - , / , *\n",
    "\n",
    "\n",
    "\n",
    "\n",
    "\n",
    "\n",
    "\n",
    "\n"
   ]
  },
  {
   "cell_type": "markdown",
   "metadata": {},
   "source": [
    "      ------------------------------------------------------------------------------------------------------------"
   ]
  },
  {
   "attachments": {
    "Capture-2.PNG": {
     "image/png": "[encoded data removed]"
    }
   },
   "cell_type": "markdown",
   "metadata": {},
   "source": [
    "\n",
    "### 2. What is the difference between string and variable?\n",
    "\n",
    "\n",
    "### Solution: \n",
    "\n",
    "![Capture-2.PNG](attachment:Capture-2.PNG)\n"
   ]
  },
  {
   "cell_type": "markdown",
   "metadata": {},
   "source": [
    "      ------------------------------------------------------------------------------------------------------------"
   ]
  },
  {
   "cell_type": "markdown",
   "metadata": {},
   "source": [
    "### 3. Describe three different data types.\n",
    "\n",
    "\n",
    "### Solution:\n",
    "\n",
    "### Integer: Integers are whole numbers without decimal part which can be either positive or negative. Ex: 100, 3, 65\n",
    "\n",
    "### Floating point number: These are numbers which includes decimal part. Ex: 0.01,4.5,100.56\n",
    "\n",
    "### Strings: Strings are sequence of immutable text information within single or double quotes. Ex: ‘Hello world’, “good”\n"
   ]
  },
  {
   "cell_type": "markdown",
   "metadata": {},
   "source": [
    "      ------------------------------------------------------------------------------------------------------------"
   ]
  },
  {
   "cell_type": "markdown",
   "metadata": {},
   "source": [
    "### 4. What is an expression made up of? What do all expressions do?\n",
    "\n",
    "\n",
    "### Solution:\n",
    "\n",
    "\n",
    "### An expression is combination values, variables and operators and this expression needs to be evaluated. \n",
    "### All expressions does is combine values and operators and always evaluates down to single values.\n",
    "\n"
   ]
  },
  {
   "cell_type": "markdown",
   "metadata": {},
   "source": [
    "      ------------------------------------------------------------------------------------------------------------"
   ]
  },
  {
   "cell_type": "markdown",
   "metadata": {},
   "source": [
    "### 6. After running the following code, what does the variable bacon contain?\n",
    "\n",
    "### bacon = 22\n",
    "### bacon + 1\n",
    "\n",
    "### Solution:\n",
    "\n",
    "### Bacon contains value 23\n"
   ]
  },
  {
   "cell_type": "markdown",
   "metadata": {},
   "source": [
    "      ------------------------------------------------------------------------------------------------------------"
   ]
  },
  {
   "cell_type": "markdown",
   "metadata": {},
   "source": [
    "### 7. What should the values of the following two terms be?\n",
    "\n",
    "### 'spam' + 'spamspam'\n",
    "### 'spam' * 3\n",
    "\n",
    "\n",
    "### Solution:\n",
    "\n",
    "### Both of these will return same output which is ‘spamspamspam’\n"
   ]
  },
  {
   "cell_type": "markdown",
   "metadata": {},
   "source": [
    "      ------------------------------------------------------------------------------------------------------------"
   ]
  },
  {
   "cell_type": "markdown",
   "metadata": {},
   "source": [
    "### 8. Why is eggs a valid variable name while 100 is invalid?\n",
    "\n",
    "### Solution:\n",
    "\n",
    "### Allowing use of number as variable can problems for language developers. During source code parsing, whenever a compiler/interpreter encountered a token beginning with a digit where a variable name was expected, it would have to search through a huge, complicated set of rules to determine whether the token was really a variable, or an error. The complexity added to the language parser may not justify this feature.\""
   ]
  },
  {
   "cell_type": "markdown",
   "metadata": {},
   "source": [
    "      ------------------------------------------------------------------------------------------------------------"
   ]
  },
  {
   "cell_type": "markdown",
   "metadata": {},
   "source": [
    "### 9. What three functions can be used to get the integer, floating-point number, or string version of a value?\n",
    "\n",
    "### Solution:\n",
    "\n",
    "### For integers:  int()\n",
    "### For floating point number: float()\n",
    "### For string: str()\n",
    "\n"
   ]
  },
  {
   "cell_type": "markdown",
   "metadata": {},
   "source": [
    "      ------------------------------------------------------------------------------------------------------------"
   ]
  },
  {
   "cell_type": "markdown",
   "metadata": {},
   "source": [
    "### 10. Why does this expression cause an error? How can you fix it?\n",
    "### 'I have eaten ' + 99 + ' burritos.'\n",
    "\n",
    "### Solution:\n",
    "\n",
    "### The above expression leads to an error because it is trying concatenate two strings with an integer type value. \n",
    "### We can fix it by putting quotes on either side of 99 .i,e ‘99’ or by type casting  99 using function str() in the expression i.e str(99).\n",
    "\n",
    "\n"
   ]
  }
 ],
 "metadata": {
  "kernelspec": {
   "display_name": "Python 3",
   "language": "python",
   "name": "python3"
  },
  "language_info": {
   "codemirror_mode": {
    "name": "ipython",
    "version": 3
   },
   "file_extension": ".py",
   "mimetype": "text/x-python",
   "name": "python",
   "nbconvert_exporter": "python",
   "pygments_lexer": "ipython3",
   "version": "3.8.5"
  }
 },
 "nbformat": 4,
 "nbformat_minor": 4
}
