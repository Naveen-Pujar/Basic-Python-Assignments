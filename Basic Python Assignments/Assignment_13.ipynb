{
 "cells": [
  {
   "cell_type": "markdown",
   "metadata": {},
   "source": [
    "## 1. What advantages do Excel spreadsheets have over CSV spreadsheets?\n",
    "### Solution: MS Excel can easily save data like charts. For CSV files, it's not possible of any linkage with external data and data updating. MS Excel files can be connected with the external data sources, and add-ins can be enabled. MS Excel allows all kind of data manipulation and related data analysis."
   ]
  },
  {
   "cell_type": "markdown",
   "metadata": {},
   "source": [
    "### --------------------------------------------------------------------------------------------------------------------------------------------------------------"
   ]
  },
  {
   "cell_type": "markdown",
   "metadata": {},
   "source": [
    "## 2.What do you pass to csv.reader() and csv.writer() to create reader and writer objects?\n",
    "\n",
    "### Solution: After opening a csv file using 'open' function, a variable can be created to csv.reader or csv.writer functions to read and write to the csv file. csv.reader will take variable as parameter which was used while opening the csv file also with 'r' as paramerter to read it. csv.writer will take variable as parameter which was used while opening the csv file and also with 'w' as paramerter to write it."
   ]
  },
  {
   "cell_type": "markdown",
   "metadata": {},
   "source": [
    "### --------------------------------------------------------------------------------------------------------------------------------------------------------------"
   ]
  },
  {
   "cell_type": "markdown",
   "metadata": {},
   "source": [
    "## 3. What modes do File objects for reader and writer objects need to be opened in?\n",
    "\n",
    "### Solution: We can specify the mode while opening a file . i.e. whether we want to read 'r', write 'w' to the file."
   ]
  },
  {
   "cell_type": "markdown",
   "metadata": {},
   "source": [
    "### --------------------------------------------------------------------------------------------------------------------------------------------------------------"
   ]
  },
  {
   "cell_type": "markdown",
   "metadata": {},
   "source": [
    "## 4. What method takes a list argument and writes it to a CSV file?\n",
    "\n",
    "### Solution: writerows(). This function takes a list of iterables as parameter and writes each item as a comma separated line of items in the file"
   ]
  },
  {
   "cell_type": "markdown",
   "metadata": {},
   "source": [
    "### --------------------------------------------------------------------------------------------------------------------------------------------------------------"
   ]
  },
  {
   "cell_type": "markdown",
   "metadata": {},
   "source": [
    "## 5. What do the keyword arguments delimiter and line terminator do?\n",
    "### Solution: The line terminator is the character that comes at the end of a row. By default, the line terminator is a newline. You can change characters to different values by using the delimiter and lineterminator keyword arguments with csv. writer()"
   ]
  },
  {
   "cell_type": "markdown",
   "metadata": {},
   "source": [
    "### --------------------------------------------------------------------------------------------------------------------------------------------------------------"
   ]
  },
  {
   "cell_type": "markdown",
   "metadata": {},
   "source": [
    "## 6. What function takes a string of JSON data and returns a Python data structure?\n",
    "\n",
    "### Solution: loads() method return Python data structure of JSON string or data."
   ]
  },
  {
   "cell_type": "markdown",
   "metadata": {},
   "source": [
    "### --------------------------------------------------------------------------------------------------------------------------------------------------------------"
   ]
  },
  {
   "cell_type": "markdown",
   "metadata": {},
   "source": [
    "## 7. What function takes a Python data structure and returns a string of JSON data?\n",
    "\n",
    "### Solution: loads() method return Python data structure of JSON string or data."
   ]
  },
  {
   "cell_type": "markdown",
   "metadata": {},
   "source": [
    "### --------------------------------------------------------------------------------------------------------------------------------------------------------------"
   ]
  }
 ],
 "metadata": {
  "kernelspec": {
   "display_name": "Python 3",
   "language": "python",
   "name": "python3"
  },
  "language_info": {
   "codemirror_mode": {
    "name": "ipython",
    "version": 3
   },
   "file_extension": ".py",
   "mimetype": "text/x-python",
   "name": "python",
   "nbconvert_exporter": "python",
   "pygments_lexer": "ipython3",
   "version": "3.8.5"
  }
 },
 "nbformat": 4,
 "nbformat_minor": 4
}
