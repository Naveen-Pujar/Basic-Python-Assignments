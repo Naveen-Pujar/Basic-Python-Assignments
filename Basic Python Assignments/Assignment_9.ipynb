{
 "cells": [
  {
   "cell_type": "markdown",
   "metadata": {},
   "source": [
    "## 1. To what does a relative path refer?\n",
    "### Solution: Relative Path is the hierarchical path that locates a file or folder on a file system starting from the current directory. "
   ]
  },
  {
   "cell_type": "markdown",
   "metadata": {},
   "source": [
    "## ----------------------------------------------------------------------------------------------------------------------------------"
   ]
  },
  {
   "cell_type": "markdown",
   "metadata": {},
   "source": [
    "## 2. What does an absolute path start with your operating system?\n",
    "### Solution:An absolute path refers to the complete details needed to locate a file or folder, starting from the root element and ending with the other subdirectories."
   ]
  },
  {
   "cell_type": "markdown",
   "metadata": {},
   "source": [
    "## ----------------------------------------------------------------------------------------------------------------------------------"
   ]
  },
  {
   "cell_type": "markdown",
   "metadata": {},
   "source": [
    "## 3. What do the functions os.getcwd() and os.chdir() do?\n",
    "### Solution:getcwd() : CWD stands for Current Working Directory. This function allows you to see what your current working directory is. chdir(\"path-to-dir\") : Short for CHange DIRectory, this function allows you to set the current working directory to a path of your choice."
   ]
  },
  {
   "cell_type": "markdown",
   "metadata": {},
   "source": [
    "## ----------------------------------------------------------------------------------------------------------------------------------"
   ]
  },
  {
   "cell_type": "markdown",
   "metadata": {},
   "source": [
    "## 4. What are the . and .. folders?\n",
    "### Solution: A single dot means that the module or package referenced is in the same directory as the current location. Two dots mean that it is in the parent directory of the current location, in other words the directory above. "
   ]
  },
  {
   "cell_type": "markdown",
   "metadata": {},
   "source": [
    "## ----------------------------------------------------------------------------------------------------------------------------------"
   ]
  },
  {
   "cell_type": "markdown",
   "metadata": {},
   "source": [
    "## 5. In C:\\bacon\\eggs\\spam.txt, which part is the dir name, and which part is the base name?\n",
    "### Solution:  C:\\bacon\\eggs is the dir name, while spam. txt is the base name."
   ]
  },
  {
   "cell_type": "markdown",
   "metadata": {},
   "source": [
    "## ----------------------------------------------------------------------------------------------------------------------------------"
   ]
  },
  {
   "cell_type": "markdown",
   "metadata": {},
   "source": [
    "## 6. What are the three “mode” arguments that can be passed to the open() function?\n",
    "### Solution:\n",
    "### r: Opens the file in read-only mode. Starts reading from the beginning of the file and is the default mode for the open() function.\n",
    "### rb: Opens the file as read-only in binary format and starts reading from the beginning of the file. While binary format can be used for different purposes, it is usually used when dealing with things like images, videos, etc.\n",
    "### r+: Opens a file for reading and writing, placing the pointer at the beginning of the file.\n",
    "### w: Opens in write-only mode. The pointer is placed at the beginning of the file and this will overwrite any existing file with the same name. It will create a new file if one with the same name doesn't exist.\n",
    "### wb: Opens a write-only file in binary mode.\n",
    "### w+: Opens a file for writing and reading.\n",
    "### wb+: Opens a file for writing and reading in binary mode.\n",
    "### a: Opens a file for appending new information to it. The pointer is placed at the end of the file. A new file is created if one with the same name doesn't exist.\n",
    "### ab: Opens a file for appending in binary mode.\n",
    "### a+: Opens a file for both appending and reading.\n",
    "### ab+: Opens a file for both appending and reading in binary mode."
   ]
  },
  {
   "cell_type": "markdown",
   "metadata": {},
   "source": [
    "## ----------------------------------------------------------------------------------------------------------------------------------"
   ]
  },
  {
   "cell_type": "markdown",
   "metadata": {},
   "source": [
    "## 7. What happens if an existing file is opened in write mode?\n",
    "### Solution: Opens in write-only mode. The pointer is placed at the beginning of the file and this will overwrite any existing file with the same name."
   ]
  },
  {
   "cell_type": "markdown",
   "metadata": {},
   "source": [
    "## ----------------------------------------------------------------------------------------------------------------------------------"
   ]
  },
  {
   "cell_type": "markdown",
   "metadata": {},
   "source": [
    "## 8. How do you tell the difference between read() and readlines()?\n",
    "### Solution: The .read() would treat each character in the file separately, meaning that the iteration would happen for every character. The readline() function, on the other hand, only reads a single line of the file. This means that if the file file_1 were three lines long, the readline() function would only parse (or iterate/operate) on the first line of the file."
   ]
  },
  {
   "cell_type": "markdown",
   "metadata": {},
   "source": [
    "## ----------------------------------------------------------------------------------------------------------------------------------"
   ]
  },
  {
   "cell_type": "markdown",
   "metadata": {},
   "source": [
    "## 9. What data structure does a shelf value resemble?\n",
    "### Solution: A shelf value resembles a dictionary value; it has keys and values, along with keys() and values() methods that work similarly to the dictionary methods of the same names."
   ]
  }
 ],
 "metadata": {
  "kernelspec": {
   "display_name": "Python 3",
   "language": "python",
   "name": "python3"
  },
  "language_info": {
   "codemirror_mode": {
    "name": "ipython",
    "version": 3
   },
   "file_extension": ".py",
   "mimetype": "text/x-python",
   "name": "python",
   "nbconvert_exporter": "python",
   "pygments_lexer": "ipython3",
   "version": "3.8.5"
  }
 },
 "nbformat": 4,
 "nbformat_minor": 4
}
